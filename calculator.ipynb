{
  "nbformat": 4,
  "nbformat_minor": 0,
  "metadata": {
    "colab": {
      "provenance": []
    },
    "kernelspec": {
      "name": "python3",
      "display_name": "Python 3"
    },
    "language_info": {
      "name": "python"
    }
  },
  "cells": [
    {
      "cell_type": "code",
      "execution_count": null,
      "metadata": {
        "id": "iSROvvUegke-"
      },
      "outputs": [],
      "source": []
    },
    {
      "cell_type": "code",
      "source": [
        "import gradio as gr\n",
        "def calculator(n,a,b):\n",
        "    def add(a,b):\n",
        "        return a+b\n",
        "    def sub(a,b):\n",
        "        return a-b\n",
        "    def mul(a,b):\n",
        "        return a*b\n",
        "    def div(a,b):\n",
        "        if b==0:\n",
        "            return \"Error:division by zero!\"\n",
        "        return a/b\n",
        "    if n==1:\n",
        "        return add(a,b)\n",
        "    elif n==2:\n",
        "        return sub(a,b)\n",
        "    elif n==3:\n",
        "        return mul(a,b)\n",
        "    elif n==4:\n",
        "        return div(a,b)\n",
        "    else:\n",
        "        return \"result not found\"\n",
        "demo=gr.Interface(\n",
        "    fn=calculator,\n",
        "    inputs=[\n",
        "        gr.Number(label=\"Enter number n(1-Add,2-sub,3-mult,4-div)\"),\n",
        "        gr.Number(label=\"Enter number a:\"),\n",
        "        gr.Number(label=\"Enter number b:\")\n",
        "    ],\n",
        "    outputs=\"text\",\n",
        "    title=\"menu driven calculator\",\n",
        "    description=\"Enter choice as number (1-4) and two values.\"\n",
        ")\n",
        "demo.launch()"
      ],
      "metadata": {
        "colab": {
          "base_uri": "https://localhost:8080/",
          "height": 646
        },
        "id": "QIxhR_seg0vf",
        "outputId": "214b95ce-1176-4cdf-9b74-aed65c896d79"
      },
      "execution_count": 1,
      "outputs": [
        {
          "output_type": "stream",
          "name": "stdout",
          "text": [
            "It looks like you are running Gradio on a hosted Jupyter notebook, which requires `share=True`. Automatically setting `share=True` (you can turn this off by setting `share=False` in `launch()` explicitly).\n",
            "\n",
            "Colab notebook detected. To show errors in colab notebook, set debug=True in launch()\n",
            "* Running on public URL: https://1e992fb5300745f7af.gradio.live\n",
            "\n",
            "This share link expires in 1 week. For free permanent hosting and GPU upgrades, run `gradio deploy` from the terminal in the working directory to deploy to Hugging Face Spaces (https://huggingface.co/spaces)\n"
          ]
        },
        {
          "output_type": "display_data",
          "data": {
            "text/plain": [
              "<IPython.core.display.HTML object>"
            ],
            "text/html": [
              "<div><iframe src=\"https://1e992fb5300745f7af.gradio.live\" width=\"100%\" height=\"500\" allow=\"autoplay; camera; microphone; clipboard-read; clipboard-write;\" frameborder=\"0\" allowfullscreen></iframe></div>"
            ]
          },
          "metadata": {}
        },
        {
          "output_type": "execute_result",
          "data": {
            "text/plain": []
          },
          "metadata": {},
          "execution_count": 1
        }
      ]
    },
    {
      "cell_type": "code",
      "source": [],
      "metadata": {
        "id": "LgIt2E7Sg2Wa"
      },
      "execution_count": null,
      "outputs": []
    }
  ]
}